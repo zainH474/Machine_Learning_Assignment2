{
  "nbformat": 4,
  "nbformat_minor": 0,
  "metadata": {
    "colab": {
      "provenance": []
    },
    "kernelspec": {
      "name": "python3",
      "display_name": "Python 3"
    },
    "language_info": {
      "name": "python"
    }
  },
  "cells": [
    {
      "cell_type": "code",
      "source": [
        "#Task2"
      ],
      "metadata": {
        "id": "FNaDO1ZGPlWg"
      },
      "execution_count": 64,
      "outputs": []
    },
    {
      "cell_type": "code",
      "execution_count": 83,
      "metadata": {
        "id": "G9E73_LXMxze"
      },
      "outputs": [],
      "source": [
        "import pandas as pd\n",
        "import numpy as np\n",
        "from sklearn.model_selection import train_test_split\n",
        "from sklearn.linear_model import SGDRegressor\n",
        "from sklearn.metrics import r2_score, mean_squared_error\n",
        "import joblib"
      ]
    },
    {
      "cell_type": "code",
      "source": [
        "df = pd.read_csv('Data.csv')\n",
        "print(df)"
      ],
      "metadata": {
        "colab": {
          "base_uri": "https://localhost:8080/"
        },
        "id": "T9UrgX01M6ZN",
        "outputId": "1818ff75-a2dd-463c-8db1-9153e2aad8ea"
      },
      "execution_count": 84,
      "outputs": [
        {
          "output_type": "stream",
          "name": "stdout",
          "text": [
            "                                            Path Identity   Expression  Age\n",
            "0      /content/drive/MyDrive/Data /imgNot1.jpeg  Unknown  Not smiling   35\n",
            "1      /content/drive/MyDrive/Data /imgNot2.jpeg  Unknown  Not smiling   35\n",
            "2     /content/drive/MyDrive/Data /imgSmile3.jpg  Unknown      Smiling   35\n",
            "3    /content/drive/MyDrive/Data /imgSmile4.jpeg  Unknown      Smiling   35\n",
            "4    /content/drive/MyDrive/Data /imgSmile5.jpeg  Unknown  Not smiling   37\n",
            "5      /content/drive/MyDrive/Data /imgNot6.jpeg  Unknown  Not smiling   34\n",
            "6       /content/drive/MyDrive/Data /imgNot7.jpg  Unknown  Not smiling   40\n",
            "7       /content/drive/MyDrive/Data /imgNot9.jpg  Unknown  Not smiling   42\n",
            "8      /content/drive/MyDrive/Data /imgNot10.jpg  Unknown  Not smiling   47\n",
            "9      /content/drive/MyDrive/Data /imgNot11.png  Unknown  Not smiling   32\n",
            "10    /content/drive/MyDrive/Data /imgNot12.jpeg  Unknown  Not smiling   39\n",
            "11     /content/drive/MyDrive/Data /imgNot13.jpg  Unknown  Not smiling   41\n",
            "12     /content/drive/MyDrive/Data /imgNot14.jpg  Unknown  Not smiling   40\n",
            "13  /content/drive/MyDrive/Data /imgSmile15.jpeg  Unknown      Smiling   44\n",
            "14   /content/drive/MyDrive/Data /imgSmile16.jpg  Unknown      Smiling   43\n",
            "15    /content/drive/MyDrive/Data /imgNot17.jpeg  Unknown  Not smiling   54\n",
            "16    /content/drive/MyDrive/Data /imgNot18.jpeg  Unknown  Not smiling   50\n",
            "17  /content/drive/MyDrive/Data /imgSmile19.jpeg  Unknown      Smiling   44\n",
            "18     /content/drive/MyDrive/Data /imgNot20.jpg  Unknown  Not smiling   43\n",
            "19   /content/drive/MyDrive/Data /imgSmile21.jpg  Unknown      Smiling   57\n",
            "20     /content/drive/MyDrive/Data /imgNot22.jpg  Unknown  Not smiling   40\n",
            "21    /content/drive/MyDrive/Data /imgNot23.jpeg  Unknown  Not smiling   41\n",
            "22    /content/drive/MyDrive/Data /imgNot24.jpeg  Unknown  Not smiling   49\n",
            "23    /content/drive/MyDrive/Data /imgNot25.jpeg  Unknown  Not smiling   44\n",
            "24     /content/drive/MyDrive/Data /imgNot26.jpg  Unknown  Not smiling   44\n",
            "25  /content/drive/MyDrive/Data /imgSmile27.jpeg  Unknown      Smiling   34\n",
            "26   /content/drive/MyDrive/Data /imgSmile28.jpg  Unknown      Smiling   32\n",
            "27   /content/drive/MyDrive/Data /imgSmile29.jpg  Unknown      Smiling   51\n",
            "28    /content/drive/MyDrive/Data /imgNot30.jpeg  Unknown  Not smiling   43\n",
            "29   /content/drive/MyDrive/Data /imgSmile31.jpg  Unknown      Smiling   47\n",
            "30   /content/drive/MyDrive/Data /imgSmile32.jpg  Unknown      Smiling   55\n",
            "31  /content/drive/MyDrive/Data /imgSmile33.jpeg  Unknown      Smiling   35\n",
            "32    /content/drive/MyDrive/Data /imgNot34.jpeg  Unknown  Not smiling   29\n",
            "33    /content/drive/MyDrive/Data /imgNot35.jpeg  Unknown  Not smiling   28\n",
            "34     /content/drive/MyDrive/Data /imgNot36.jpg  Unknown  Not smiling   27\n",
            "35    /content/drive/MyDrive/Data /meSmile38.jpg   M.Zain      Smiling   22\n",
            "36      /content/drive/MyDrive/Data /meNot39.jpg   M.Zain  Not smiling   22\n",
            "37    /content/drive/MyDrive/Data /meSmile41.jpg   M.Zain      Smiling   22\n",
            "38    /content/drive/MyDrive/Data /meSmile42.jpg   M.Zain      Smiling   22\n",
            "39    /content/drive/MyDrive/Data /meSmile42.jpg   M.Zain      Smiling   22\n"
          ]
        }
      ]
    },
    {
      "cell_type": "code",
      "source": [
        "x = df[['Path', 'Identity', 'Expression']] #Features\n",
        "y = df[['Age']] #Target label\n",
        "\n",
        "x_train, x_test, y_train, y_test = train_test_split(x, y, test_size=0.2, random_state=42)"
      ],
      "metadata": {
        "id": "s23X53gPZuSo"
      },
      "execution_count": 85,
      "outputs": []
    },
    {
      "cell_type": "code",
      "source": [
        "print(\"Train split\")\n",
        "print(x_train)\n",
        "\n",
        "print(\"\\nTest split\")\n",
        "print(x_test)"
      ],
      "metadata": {
        "colab": {
          "base_uri": "https://localhost:8080/"
        },
        "id": "sRJ6NH5qZd62",
        "outputId": "893338f2-f38c-42bd-e951-660760772563"
      },
      "execution_count": 86,
      "outputs": [
        {
          "output_type": "stream",
          "name": "stdout",
          "text": [
            "Train split\n",
            "                                            Path Identity   Expression\n",
            "39    /content/drive/MyDrive/Data /meSmile42.jpg   M.Zain      Smiling\n",
            "6       /content/drive/MyDrive/Data /imgNot7.jpg  Unknown  Not smiling\n",
            "25  /content/drive/MyDrive/Data /imgSmile27.jpeg  Unknown      Smiling\n",
            "9      /content/drive/MyDrive/Data /imgNot11.png  Unknown  Not smiling\n",
            "13  /content/drive/MyDrive/Data /imgSmile15.jpeg  Unknown      Smiling\n",
            "31  /content/drive/MyDrive/Data /imgSmile33.jpeg  Unknown      Smiling\n",
            "34     /content/drive/MyDrive/Data /imgNot36.jpg  Unknown  Not smiling\n",
            "8      /content/drive/MyDrive/Data /imgNot10.jpg  Unknown  Not smiling\n",
            "17  /content/drive/MyDrive/Data /imgSmile19.jpeg  Unknown      Smiling\n",
            "24     /content/drive/MyDrive/Data /imgNot26.jpg  Unknown  Not smiling\n",
            "0      /content/drive/MyDrive/Data /imgNot1.jpeg  Unknown  Not smiling\n",
            "33    /content/drive/MyDrive/Data /imgNot35.jpeg  Unknown  Not smiling\n",
            "5      /content/drive/MyDrive/Data /imgNot6.jpeg  Unknown  Not smiling\n",
            "11     /content/drive/MyDrive/Data /imgNot13.jpg  Unknown  Not smiling\n",
            "1      /content/drive/MyDrive/Data /imgNot2.jpeg  Unknown  Not smiling\n",
            "29   /content/drive/MyDrive/Data /imgSmile31.jpg  Unknown      Smiling\n",
            "21    /content/drive/MyDrive/Data /imgNot23.jpeg  Unknown  Not smiling\n",
            "2     /content/drive/MyDrive/Data /imgSmile3.jpg  Unknown      Smiling\n",
            "30   /content/drive/MyDrive/Data /imgSmile32.jpg  Unknown      Smiling\n",
            "36      /content/drive/MyDrive/Data /meNot39.jpg   M.Zain  Not smiling\n",
            "3    /content/drive/MyDrive/Data /imgSmile4.jpeg  Unknown      Smiling\n",
            "35    /content/drive/MyDrive/Data /meSmile38.jpg   M.Zain      Smiling\n",
            "23    /content/drive/MyDrive/Data /imgNot25.jpeg  Unknown  Not smiling\n",
            "32    /content/drive/MyDrive/Data /imgNot34.jpeg  Unknown  Not smiling\n",
            "10    /content/drive/MyDrive/Data /imgNot12.jpeg  Unknown  Not smiling\n",
            "22    /content/drive/MyDrive/Data /imgNot24.jpeg  Unknown  Not smiling\n",
            "18     /content/drive/MyDrive/Data /imgNot20.jpg  Unknown  Not smiling\n",
            "20     /content/drive/MyDrive/Data /imgNot22.jpg  Unknown  Not smiling\n",
            "7       /content/drive/MyDrive/Data /imgNot9.jpg  Unknown  Not smiling\n",
            "14   /content/drive/MyDrive/Data /imgSmile16.jpg  Unknown      Smiling\n",
            "28    /content/drive/MyDrive/Data /imgNot30.jpeg  Unknown  Not smiling\n",
            "38    /content/drive/MyDrive/Data /meSmile42.jpg   M.Zain      Smiling\n",
            "\n",
            "Test split\n",
            "                                           Path Identity   Expression\n",
            "19  /content/drive/MyDrive/Data /imgSmile21.jpg  Unknown      Smiling\n",
            "16   /content/drive/MyDrive/Data /imgNot18.jpeg  Unknown  Not smiling\n",
            "15   /content/drive/MyDrive/Data /imgNot17.jpeg  Unknown  Not smiling\n",
            "26  /content/drive/MyDrive/Data /imgSmile28.jpg  Unknown      Smiling\n",
            "4   /content/drive/MyDrive/Data /imgSmile5.jpeg  Unknown  Not smiling\n",
            "12    /content/drive/MyDrive/Data /imgNot14.jpg  Unknown  Not smiling\n",
            "37   /content/drive/MyDrive/Data /meSmile41.jpg   M.Zain      Smiling\n",
            "27  /content/drive/MyDrive/Data /imgSmile29.jpg  Unknown      Smiling\n"
          ]
        }
      ]
    },
    {
      "cell_type": "code",
      "source": [
        "print(\"Train split\")\n",
        "print(y_train)\n",
        "\n",
        "print(\"\\nTest split\")\n",
        "print(y_test)"
      ],
      "metadata": {
        "colab": {
          "base_uri": "https://localhost:8080/"
        },
        "id": "sj2eqlFyaU8U",
        "outputId": "5d9cfff7-f95e-4d67-fbad-ca068dc23696"
      },
      "execution_count": 87,
      "outputs": [
        {
          "output_type": "stream",
          "name": "stdout",
          "text": [
            "Train split\n",
            "    Age\n",
            "39   22\n",
            "6    40\n",
            "25   34\n",
            "9    32\n",
            "13   44\n",
            "31   35\n",
            "34   27\n",
            "8    47\n",
            "17   44\n",
            "24   44\n",
            "0    35\n",
            "33   28\n",
            "5    34\n",
            "11   41\n",
            "1    35\n",
            "29   47\n",
            "21   41\n",
            "2    35\n",
            "30   55\n",
            "36   22\n",
            "3    35\n",
            "35   22\n",
            "23   44\n",
            "32   29\n",
            "10   39\n",
            "22   49\n",
            "18   43\n",
            "20   40\n",
            "7    42\n",
            "14   43\n",
            "28   43\n",
            "38   22\n",
            "\n",
            "Test split\n",
            "    Age\n",
            "19   57\n",
            "16   50\n",
            "15   54\n",
            "26   32\n",
            "4    37\n",
            "12   40\n",
            "37   22\n",
            "27   51\n"
          ]
        }
      ]
    },
    {
      "cell_type": "code",
      "source": [
        "import skimage\n",
        "from skimage import io\n",
        "from skimage import transform\n",
        "\n",
        "#Specifying the path\n",
        "path = x_train['Path']\n",
        "\n",
        "arr = []\n",
        "for files in path:\n",
        "    image = io.imread(files)\n",
        "    #resizing the image to match a certain type\n",
        "    img_resize = transform.resize(image, output_shape=(32,32,3))\n",
        "    img_reshape = np.reshape(img_resize, (32*32*3))\n",
        "    arr.append(img_reshape/255.)\n",
        "\n",
        "x_train = np.array(arr)\n",
        "print(x_train)"
      ],
      "metadata": {
        "colab": {
          "base_uri": "https://localhost:8080/"
        },
        "id": "ufT8EVN6a6gg",
        "outputId": "2c92d016-5f90-4615-c082-1d98845aeac0"
      },
      "execution_count": 88,
      "outputs": [
        {
          "output_type": "stream",
          "name": "stdout",
          "text": [
            "[[2.88026261e-03 2.31848762e-03 1.63572727e-03 ... 3.90033488e-03\n",
            "  3.88960985e-03 3.86180373e-03]\n",
            " [1.00910051e-03 9.93721810e-04 1.23978096e-03 ... 3.17830215e-04\n",
            "  3.33208915e-04 3.94723717e-04]\n",
            " [1.80533470e-03 1.71306250e-03 1.89760691e-03 ... 1.62675583e-03\n",
            "  1.54986232e-03 1.64213453e-03]\n",
            " ...\n",
            " [2.37587014e-03 2.51158957e-03 2.74325321e-03 ... 2.01898191e-03\n",
            "  7.88054901e-04 6.00197624e-04]\n",
            " [2.99884660e-03 2.81430219e-03 3.42945021e-03 ... 3.20145654e-03\n",
            "  4.14083554e-05 8.70828851e-04]\n",
            " [2.88026261e-03 2.31848762e-03 1.63572727e-03 ... 3.90033488e-03\n",
            "  3.88960985e-03 3.86180373e-03]]\n"
          ]
        }
      ]
    },
    {
      "cell_type": "code",
      "source": [
        "#The below imports have been used and sepecified to previously\n",
        "#So no need to do the same steps again.\n",
        "#import skimage\n",
        "#from skimage import io\n",
        "#from skimage import transform\n",
        "\n",
        "#Now doing the same for test data\n",
        "\n",
        "#Specifying the path\n",
        "path = x_test['Path']\n",
        "\n",
        "arr = []\n",
        "for files in path:\n",
        "    image = io.imread(files)\n",
        "    #resizing the image to match a certain type\n",
        "    img_resize = transform.resize(image, output_shape=(32,32,3))\n",
        "    img_reshape = np.reshape(img_resize, (32*32*3))\n",
        "    arr.append(img_reshape/255.)\n",
        "\n",
        "x_test = np.array(arr)\n",
        "print(x_test)"
      ],
      "metadata": {
        "colab": {
          "base_uri": "https://localhost:8080/"
        },
        "id": "5YkajEGy4Pi7",
        "outputId": "74de8d78-775e-460d-c18f-823851b8a1c0"
      },
      "execution_count": 89,
      "outputs": [
        {
          "output_type": "stream",
          "name": "stdout",
          "text": [
            "[[4.24016592e-04 2.85854666e-04 2.08950258e-04 ... 1.42613805e-03\n",
            "  1.08689699e-03 9.83180133e-04]\n",
            " [3.81842583e-03 3.72056645e-03 3.43871805e-03 ... 7.39322195e-04\n",
            "  6.79304407e-04 6.69993975e-04]\n",
            " [2.31245059e-03 2.31245362e-03 2.28169471e-03 ... 3.18647541e-03\n",
            "  2.69819371e-03 2.18800652e-03]\n",
            " ...\n",
            " [1.71238921e-04 2.88250691e-04 2.32023392e-04 ... 1.29810965e-04\n",
            "  2.08088415e-04 2.23023326e-04]\n",
            " [3.79142669e-03 2.83892480e-03 2.16028376e-03 ... 1.82437314e-03\n",
            "  1.11662523e-03 9.54475058e-04]\n",
            " [6.50458367e-06 6.50458367e-06 6.50458367e-06 ... 2.61888203e-03\n",
            "  2.60850263e-03 2.67211627e-03]]\n"
          ]
        }
      ]
    },
    {
      "cell_type": "code",
      "source": [
        "# Initialize SGD Regressor\n",
        "regressor = SGDRegressor(max_iter=1000, random_state=42)\n",
        "regressor.fit(x_train, y_train)"
      ],
      "metadata": {
        "colab": {
          "base_uri": "https://localhost:8080/",
          "height": 129
        },
        "id": "0Wx7O1CA5-pq",
        "outputId": "4cb4bbbd-66f3-4926-9e21-e459d4ba9235"
      },
      "execution_count": 90,
      "outputs": [
        {
          "output_type": "stream",
          "name": "stderr",
          "text": [
            "/usr/local/lib/python3.10/dist-packages/sklearn/utils/validation.py:1143: DataConversionWarning: A column-vector y was passed when a 1d array was expected. Please change the shape of y to (n_samples, ), for example using ravel().\n",
            "  y = column_or_1d(y, warn=True)\n"
          ]
        },
        {
          "output_type": "execute_result",
          "data": {
            "text/plain": [
              "SGDRegressor(random_state=42)"
            ],
            "text/html": [
              "<style>#sk-container-id-8 {color: black;background-color: white;}#sk-container-id-8 pre{padding: 0;}#sk-container-id-8 div.sk-toggleable {background-color: white;}#sk-container-id-8 label.sk-toggleable__label {cursor: pointer;display: block;width: 100%;margin-bottom: 0;padding: 0.3em;box-sizing: border-box;text-align: center;}#sk-container-id-8 label.sk-toggleable__label-arrow:before {content: \"▸\";float: left;margin-right: 0.25em;color: #696969;}#sk-container-id-8 label.sk-toggleable__label-arrow:hover:before {color: black;}#sk-container-id-8 div.sk-estimator:hover label.sk-toggleable__label-arrow:before {color: black;}#sk-container-id-8 div.sk-toggleable__content {max-height: 0;max-width: 0;overflow: hidden;text-align: left;background-color: #f0f8ff;}#sk-container-id-8 div.sk-toggleable__content pre {margin: 0.2em;color: black;border-radius: 0.25em;background-color: #f0f8ff;}#sk-container-id-8 input.sk-toggleable__control:checked~div.sk-toggleable__content {max-height: 200px;max-width: 100%;overflow: auto;}#sk-container-id-8 input.sk-toggleable__control:checked~label.sk-toggleable__label-arrow:before {content: \"▾\";}#sk-container-id-8 div.sk-estimator input.sk-toggleable__control:checked~label.sk-toggleable__label {background-color: #d4ebff;}#sk-container-id-8 div.sk-label input.sk-toggleable__control:checked~label.sk-toggleable__label {background-color: #d4ebff;}#sk-container-id-8 input.sk-hidden--visually {border: 0;clip: rect(1px 1px 1px 1px);clip: rect(1px, 1px, 1px, 1px);height: 1px;margin: -1px;overflow: hidden;padding: 0;position: absolute;width: 1px;}#sk-container-id-8 div.sk-estimator {font-family: monospace;background-color: #f0f8ff;border: 1px dotted black;border-radius: 0.25em;box-sizing: border-box;margin-bottom: 0.5em;}#sk-container-id-8 div.sk-estimator:hover {background-color: #d4ebff;}#sk-container-id-8 div.sk-parallel-item::after {content: \"\";width: 100%;border-bottom: 1px solid gray;flex-grow: 1;}#sk-container-id-8 div.sk-label:hover label.sk-toggleable__label {background-color: #d4ebff;}#sk-container-id-8 div.sk-serial::before {content: \"\";position: absolute;border-left: 1px solid gray;box-sizing: border-box;top: 0;bottom: 0;left: 50%;z-index: 0;}#sk-container-id-8 div.sk-serial {display: flex;flex-direction: column;align-items: center;background-color: white;padding-right: 0.2em;padding-left: 0.2em;position: relative;}#sk-container-id-8 div.sk-item {position: relative;z-index: 1;}#sk-container-id-8 div.sk-parallel {display: flex;align-items: stretch;justify-content: center;background-color: white;position: relative;}#sk-container-id-8 div.sk-item::before, #sk-container-id-8 div.sk-parallel-item::before {content: \"\";position: absolute;border-left: 1px solid gray;box-sizing: border-box;top: 0;bottom: 0;left: 50%;z-index: -1;}#sk-container-id-8 div.sk-parallel-item {display: flex;flex-direction: column;z-index: 1;position: relative;background-color: white;}#sk-container-id-8 div.sk-parallel-item:first-child::after {align-self: flex-end;width: 50%;}#sk-container-id-8 div.sk-parallel-item:last-child::after {align-self: flex-start;width: 50%;}#sk-container-id-8 div.sk-parallel-item:only-child::after {width: 0;}#sk-container-id-8 div.sk-dashed-wrapped {border: 1px dashed gray;margin: 0 0.4em 0.5em 0.4em;box-sizing: border-box;padding-bottom: 0.4em;background-color: white;}#sk-container-id-8 div.sk-label label {font-family: monospace;font-weight: bold;display: inline-block;line-height: 1.2em;}#sk-container-id-8 div.sk-label-container {text-align: center;}#sk-container-id-8 div.sk-container {/* jupyter's `normalize.less` sets `[hidden] { display: none; }` but bootstrap.min.css set `[hidden] { display: none !important; }` so we also need the `!important` here to be able to override the default hidden behavior on the sphinx rendered scikit-learn.org. See: https://github.com/scikit-learn/scikit-learn/issues/21755 */display: inline-block !important;position: relative;}#sk-container-id-8 div.sk-text-repr-fallback {display: none;}</style><div id=\"sk-container-id-8\" class=\"sk-top-container\"><div class=\"sk-text-repr-fallback\"><pre>SGDRegressor(random_state=42)</pre><b>In a Jupyter environment, please rerun this cell to show the HTML representation or trust the notebook. <br />On GitHub, the HTML representation is unable to render, please try loading this page with nbviewer.org.</b></div><div class=\"sk-container\" hidden><div class=\"sk-item\"><div class=\"sk-estimator sk-toggleable\"><input class=\"sk-toggleable__control sk-hidden--visually\" id=\"sk-estimator-id-8\" type=\"checkbox\" checked><label for=\"sk-estimator-id-8\" class=\"sk-toggleable__label sk-toggleable__label-arrow\">SGDRegressor</label><div class=\"sk-toggleable__content\"><pre>SGDRegressor(random_state=42)</pre></div></div></div></div></div>"
            ]
          },
          "metadata": {},
          "execution_count": 90
        }
      ]
    },
    {
      "cell_type": "code",
      "source": [
        "#We can save the regressor model using joblib\n",
        "joblib.dump(regressor, '/content/drive/MyDrive/sdg_regressor.pkl')"
      ],
      "metadata": {
        "colab": {
          "base_uri": "https://localhost:8080/"
        },
        "id": "4xrHJ3hr7h0c",
        "outputId": "03afd869-6de8-4f14-87a9-c0ea0a520aca"
      },
      "execution_count": 91,
      "outputs": [
        {
          "output_type": "execute_result",
          "data": {
            "text/plain": [
              "['/content/drive/MyDrive/sdg_regressor.pkl']"
            ]
          },
          "metadata": {},
          "execution_count": 91
        }
      ]
    },
    {
      "cell_type": "code",
      "source": [
        "#Now loading the regressor model\n",
        "joblib.load('/content/drive/MyDrive/sdg_regressor.pkl')"
      ],
      "metadata": {
        "colab": {
          "base_uri": "https://localhost:8080/",
          "height": 74
        },
        "id": "0YYRMUeJB3rT",
        "outputId": "0796d8bf-5a4a-477d-df19-7ba3d7b8555b"
      },
      "execution_count": 92,
      "outputs": [
        {
          "output_type": "execute_result",
          "data": {
            "text/plain": [
              "SGDRegressor(random_state=42)"
            ],
            "text/html": [
              "<style>#sk-container-id-9 {color: black;background-color: white;}#sk-container-id-9 pre{padding: 0;}#sk-container-id-9 div.sk-toggleable {background-color: white;}#sk-container-id-9 label.sk-toggleable__label {cursor: pointer;display: block;width: 100%;margin-bottom: 0;padding: 0.3em;box-sizing: border-box;text-align: center;}#sk-container-id-9 label.sk-toggleable__label-arrow:before {content: \"▸\";float: left;margin-right: 0.25em;color: #696969;}#sk-container-id-9 label.sk-toggleable__label-arrow:hover:before {color: black;}#sk-container-id-9 div.sk-estimator:hover label.sk-toggleable__label-arrow:before {color: black;}#sk-container-id-9 div.sk-toggleable__content {max-height: 0;max-width: 0;overflow: hidden;text-align: left;background-color: #f0f8ff;}#sk-container-id-9 div.sk-toggleable__content pre {margin: 0.2em;color: black;border-radius: 0.25em;background-color: #f0f8ff;}#sk-container-id-9 input.sk-toggleable__control:checked~div.sk-toggleable__content {max-height: 200px;max-width: 100%;overflow: auto;}#sk-container-id-9 input.sk-toggleable__control:checked~label.sk-toggleable__label-arrow:before {content: \"▾\";}#sk-container-id-9 div.sk-estimator input.sk-toggleable__control:checked~label.sk-toggleable__label {background-color: #d4ebff;}#sk-container-id-9 div.sk-label input.sk-toggleable__control:checked~label.sk-toggleable__label {background-color: #d4ebff;}#sk-container-id-9 input.sk-hidden--visually {border: 0;clip: rect(1px 1px 1px 1px);clip: rect(1px, 1px, 1px, 1px);height: 1px;margin: -1px;overflow: hidden;padding: 0;position: absolute;width: 1px;}#sk-container-id-9 div.sk-estimator {font-family: monospace;background-color: #f0f8ff;border: 1px dotted black;border-radius: 0.25em;box-sizing: border-box;margin-bottom: 0.5em;}#sk-container-id-9 div.sk-estimator:hover {background-color: #d4ebff;}#sk-container-id-9 div.sk-parallel-item::after {content: \"\";width: 100%;border-bottom: 1px solid gray;flex-grow: 1;}#sk-container-id-9 div.sk-label:hover label.sk-toggleable__label {background-color: #d4ebff;}#sk-container-id-9 div.sk-serial::before {content: \"\";position: absolute;border-left: 1px solid gray;box-sizing: border-box;top: 0;bottom: 0;left: 50%;z-index: 0;}#sk-container-id-9 div.sk-serial {display: flex;flex-direction: column;align-items: center;background-color: white;padding-right: 0.2em;padding-left: 0.2em;position: relative;}#sk-container-id-9 div.sk-item {position: relative;z-index: 1;}#sk-container-id-9 div.sk-parallel {display: flex;align-items: stretch;justify-content: center;background-color: white;position: relative;}#sk-container-id-9 div.sk-item::before, #sk-container-id-9 div.sk-parallel-item::before {content: \"\";position: absolute;border-left: 1px solid gray;box-sizing: border-box;top: 0;bottom: 0;left: 50%;z-index: -1;}#sk-container-id-9 div.sk-parallel-item {display: flex;flex-direction: column;z-index: 1;position: relative;background-color: white;}#sk-container-id-9 div.sk-parallel-item:first-child::after {align-self: flex-end;width: 50%;}#sk-container-id-9 div.sk-parallel-item:last-child::after {align-self: flex-start;width: 50%;}#sk-container-id-9 div.sk-parallel-item:only-child::after {width: 0;}#sk-container-id-9 div.sk-dashed-wrapped {border: 1px dashed gray;margin: 0 0.4em 0.5em 0.4em;box-sizing: border-box;padding-bottom: 0.4em;background-color: white;}#sk-container-id-9 div.sk-label label {font-family: monospace;font-weight: bold;display: inline-block;line-height: 1.2em;}#sk-container-id-9 div.sk-label-container {text-align: center;}#sk-container-id-9 div.sk-container {/* jupyter's `normalize.less` sets `[hidden] { display: none; }` but bootstrap.min.css set `[hidden] { display: none !important; }` so we also need the `!important` here to be able to override the default hidden behavior on the sphinx rendered scikit-learn.org. See: https://github.com/scikit-learn/scikit-learn/issues/21755 */display: inline-block !important;position: relative;}#sk-container-id-9 div.sk-text-repr-fallback {display: none;}</style><div id=\"sk-container-id-9\" class=\"sk-top-container\"><div class=\"sk-text-repr-fallback\"><pre>SGDRegressor(random_state=42)</pre><b>In a Jupyter environment, please rerun this cell to show the HTML representation or trust the notebook. <br />On GitHub, the HTML representation is unable to render, please try loading this page with nbviewer.org.</b></div><div class=\"sk-container\" hidden><div class=\"sk-item\"><div class=\"sk-estimator sk-toggleable\"><input class=\"sk-toggleable__control sk-hidden--visually\" id=\"sk-estimator-id-9\" type=\"checkbox\" checked><label for=\"sk-estimator-id-9\" class=\"sk-toggleable__label sk-toggleable__label-arrow\">SGDRegressor</label><div class=\"sk-toggleable__content\"><pre>SGDRegressor(random_state=42)</pre></div></div></div></div></div>"
            ]
          },
          "metadata": {},
          "execution_count": 92
        }
      ]
    },
    {
      "cell_type": "code",
      "source": [
        "#Printing regression coeffient\n",
        "print(\"SDG Regression Coeffient: \", regressor.coef_)"
      ],
      "metadata": {
        "colab": {
          "base_uri": "https://localhost:8080/"
        },
        "id": "FNsJqQ1fChx0",
        "outputId": "2c9e791a-87d7-4c76-89db-2b49b3c09a02"
      },
      "execution_count": 93,
      "outputs": [
        {
          "output_type": "stream",
          "name": "stdout",
          "text": [
            "SDG Regression Coeffient:  [0.07262943 0.06487578 0.06875388 ... 0.04723211 0.02503139 0.02779006]\n"
          ]
        }
      ]
    },
    {
      "cell_type": "code",
      "source": [
        "#Converting y_test to 1D array\n",
        "y_test = np.array(y_test)\n",
        "y_test"
      ],
      "metadata": {
        "colab": {
          "base_uri": "https://localhost:8080/"
        },
        "id": "7LkKp2gQDoej",
        "outputId": "5e4e5b25-4afc-4b91-cf6f-da357082f0ef"
      },
      "execution_count": 94,
      "outputs": [
        {
          "output_type": "execute_result",
          "data": {
            "text/plain": [
              "array([[57],\n",
              "       [50],\n",
              "       [54],\n",
              "       [32],\n",
              "       [37],\n",
              "       [40],\n",
              "       [22],\n",
              "       [51]])"
            ]
          },
          "metadata": {},
          "execution_count": 94
        }
      ]
    },
    {
      "cell_type": "code",
      "source": [
        "y_predict = regressor.predict(x_test)\n",
        "MSE = mean_squared_error(y_test, y_predict)\n",
        "R2_score = r2_score(y_test, y_predict)"
      ],
      "metadata": {
        "id": "Ly0govMaESkE"
      },
      "execution_count": 95,
      "outputs": []
    },
    {
      "cell_type": "code",
      "source": [
        "print(f\"The Mean Squared Error is: {MSE}\")\n",
        "print(f\"The R2 score is: {R2_score}\")"
      ],
      "metadata": {
        "colab": {
          "base_uri": "https://localhost:8080/"
        },
        "id": "rkKKKtsAFx0t",
        "outputId": "bc757338-9015-47b3-8d12-7ecb24f2972b"
      },
      "execution_count": 96,
      "outputs": [
        {
          "output_type": "stream",
          "name": "stdout",
          "text": [
            "The Mean Squared Error is: 162.11630989902213\n",
            "The R2 score is: -0.2508069720961321\n"
          ]
        }
      ]
    }
  ]
}